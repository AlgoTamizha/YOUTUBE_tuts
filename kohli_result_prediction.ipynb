{
  "nbformat": 4,
  "nbformat_minor": 0,
  "metadata": {
    "colab": {
      "name": "kohli_result_prediction.ipynb",
      "provenance": [],
      "collapsed_sections": []
    },
    "kernelspec": {
      "name": "python3",
      "display_name": "Python 3"
    },
    "language_info": {
      "name": "python"
    }
  },
  "cells": [
    {
      "cell_type": "code",
      "metadata": {
        "id": "HheJXEd7M8wm"
      },
      "source": [
        "import pandas as pd"
      ],
      "execution_count": 154,
      "outputs": []
    },
    {
      "cell_type": "markdown",
      "metadata": {
        "id": "0IioSkT97ZRb"
      },
      "source": [
        "READING THE DATASET"
      ]
    },
    {
      "cell_type": "code",
      "metadata": {
        "id": "rjD2rpfBNGsP"
      },
      "source": [
        "data = pd.read_csv('kohli_results.csv',engine = 'python')"
      ],
      "execution_count": 155,
      "outputs": []
    },
    {
      "cell_type": "code",
      "metadata": {
        "colab": {
          "base_uri": "https://localhost:8080/"
        },
        "id": "U9Z1kVH-OVPY",
        "outputId": "f1ec7d07-7e47-450f-ef98-4058762ca063"
      },
      "source": [
        "data.shape"
      ],
      "execution_count": 156,
      "outputs": [
        {
          "output_type": "execute_result",
          "data": {
            "text/plain": [
              "(438, 8)"
            ]
          },
          "metadata": {
            "tags": []
          },
          "execution_count": 156
        }
      ]
    },
    {
      "cell_type": "code",
      "metadata": {
        "colab": {
          "base_uri": "https://localhost:8080/",
          "height": 203
        },
        "id": "mQ-p7W5aNQaF",
        "outputId": "412cd6fa-ba65-4cb2-c92d-f2c059ac46af"
      },
      "source": [
        "data.head()"
      ],
      "execution_count": 157,
      "outputs": [
        {
          "output_type": "execute_result",
          "data": {
            "text/html": [
              "<div>\n",
              "<style scoped>\n",
              "    .dataframe tbody tr th:only-of-type {\n",
              "        vertical-align: middle;\n",
              "    }\n",
              "\n",
              "    .dataframe tbody tr th {\n",
              "        vertical-align: top;\n",
              "    }\n",
              "\n",
              "    .dataframe thead th {\n",
              "        text-align: right;\n",
              "    }\n",
              "</style>\n",
              "<table border=\"1\" class=\"dataframe\">\n",
              "  <thead>\n",
              "    <tr style=\"text-align: right;\">\n",
              "      <th></th>\n",
              "      <th>Unnamed: 0</th>\n",
              "      <th>Runs</th>\n",
              "      <th>BF</th>\n",
              "      <th>SR</th>\n",
              "      <th>4s</th>\n",
              "      <th>6s</th>\n",
              "      <th>Opposition</th>\n",
              "      <th>Result</th>\n",
              "    </tr>\n",
              "  </thead>\n",
              "  <tbody>\n",
              "    <tr>\n",
              "      <th>0</th>\n",
              "      <td>0</td>\n",
              "      <td>12</td>\n",
              "      <td>22</td>\n",
              "      <td>54.54</td>\n",
              "      <td>1</td>\n",
              "      <td>0</td>\n",
              "      <td>ODI v�Sri Lanka</td>\n",
              "      <td>lost</td>\n",
              "    </tr>\n",
              "    <tr>\n",
              "      <th>1</th>\n",
              "      <td>1</td>\n",
              "      <td>37</td>\n",
              "      <td>67</td>\n",
              "      <td>55.22</td>\n",
              "      <td>6</td>\n",
              "      <td>0</td>\n",
              "      <td>ODI v�Sri Lanka</td>\n",
              "      <td>won</td>\n",
              "    </tr>\n",
              "    <tr>\n",
              "      <th>2</th>\n",
              "      <td>2</td>\n",
              "      <td>25</td>\n",
              "      <td>38</td>\n",
              "      <td>65.78</td>\n",
              "      <td>4</td>\n",
              "      <td>0</td>\n",
              "      <td>ODI v�Sri Lanka</td>\n",
              "      <td>won</td>\n",
              "    </tr>\n",
              "    <tr>\n",
              "      <th>3</th>\n",
              "      <td>3</td>\n",
              "      <td>54</td>\n",
              "      <td>66</td>\n",
              "      <td>81.81</td>\n",
              "      <td>7</td>\n",
              "      <td>0</td>\n",
              "      <td>ODI v�Sri Lanka</td>\n",
              "      <td>won</td>\n",
              "    </tr>\n",
              "    <tr>\n",
              "      <th>4</th>\n",
              "      <td>4</td>\n",
              "      <td>31</td>\n",
              "      <td>46</td>\n",
              "      <td>67.39</td>\n",
              "      <td>3</td>\n",
              "      <td>1</td>\n",
              "      <td>ODI v�Sri Lanka</td>\n",
              "      <td>lost</td>\n",
              "    </tr>\n",
              "  </tbody>\n",
              "</table>\n",
              "</div>"
            ],
            "text/plain": [
              "   Unnamed: 0 Runs  BF     SR 4s 6s       Opposition Result\n",
              "0           0   12  22  54.54  1  0  ODI v�Sri Lanka   lost\n",
              "1           1   37  67  55.22  6  0  ODI v�Sri Lanka    won\n",
              "2           2   25  38  65.78  4  0  ODI v�Sri Lanka    won\n",
              "3           3   54  66  81.81  7  0  ODI v�Sri Lanka    won\n",
              "4           4   31  46  67.39  3  1  ODI v�Sri Lanka   lost"
            ]
          },
          "metadata": {
            "tags": []
          },
          "execution_count": 157
        }
      ]
    },
    {
      "cell_type": "code",
      "metadata": {
        "id": "kOk9x0m79FF5"
      },
      "source": [
        "data = data.drop(['Unnamed: 0'],axis = 1)"
      ],
      "execution_count": 158,
      "outputs": []
    },
    {
      "cell_type": "markdown",
      "metadata": {
        "id": "cNaQjPF67jw5"
      },
      "source": [
        "**PRE PROCESSING AND DATA CLEANING**"
      ]
    },
    {
      "cell_type": "code",
      "metadata": {
        "id": "0ZUvvmHyN1a_"
      },
      "source": [
        "data['Opposition'] = data['Opposition'].str.replace('[^\\w\\s]','')\n"
      ],
      "execution_count": 159,
      "outputs": []
    },
    {
      "cell_type": "code",
      "metadata": {
        "colab": {
          "base_uri": "https://localhost:8080/",
          "height": 203
        },
        "id": "w5xGeVwfORbJ",
        "outputId": "7f906062-948d-4513-eea1-a99d9ff3fb89"
      },
      "source": [
        "data.head()"
      ],
      "execution_count": 160,
      "outputs": [
        {
          "output_type": "execute_result",
          "data": {
            "text/html": [
              "<div>\n",
              "<style scoped>\n",
              "    .dataframe tbody tr th:only-of-type {\n",
              "        vertical-align: middle;\n",
              "    }\n",
              "\n",
              "    .dataframe tbody tr th {\n",
              "        vertical-align: top;\n",
              "    }\n",
              "\n",
              "    .dataframe thead th {\n",
              "        text-align: right;\n",
              "    }\n",
              "</style>\n",
              "<table border=\"1\" class=\"dataframe\">\n",
              "  <thead>\n",
              "    <tr style=\"text-align: right;\">\n",
              "      <th></th>\n",
              "      <th>Runs</th>\n",
              "      <th>BF</th>\n",
              "      <th>SR</th>\n",
              "      <th>4s</th>\n",
              "      <th>6s</th>\n",
              "      <th>Opposition</th>\n",
              "      <th>Result</th>\n",
              "    </tr>\n",
              "  </thead>\n",
              "  <tbody>\n",
              "    <tr>\n",
              "      <th>0</th>\n",
              "      <td>12</td>\n",
              "      <td>22</td>\n",
              "      <td>54.54</td>\n",
              "      <td>1</td>\n",
              "      <td>0</td>\n",
              "      <td>ODI vSri Lanka</td>\n",
              "      <td>lost</td>\n",
              "    </tr>\n",
              "    <tr>\n",
              "      <th>1</th>\n",
              "      <td>37</td>\n",
              "      <td>67</td>\n",
              "      <td>55.22</td>\n",
              "      <td>6</td>\n",
              "      <td>0</td>\n",
              "      <td>ODI vSri Lanka</td>\n",
              "      <td>won</td>\n",
              "    </tr>\n",
              "    <tr>\n",
              "      <th>2</th>\n",
              "      <td>25</td>\n",
              "      <td>38</td>\n",
              "      <td>65.78</td>\n",
              "      <td>4</td>\n",
              "      <td>0</td>\n",
              "      <td>ODI vSri Lanka</td>\n",
              "      <td>won</td>\n",
              "    </tr>\n",
              "    <tr>\n",
              "      <th>3</th>\n",
              "      <td>54</td>\n",
              "      <td>66</td>\n",
              "      <td>81.81</td>\n",
              "      <td>7</td>\n",
              "      <td>0</td>\n",
              "      <td>ODI vSri Lanka</td>\n",
              "      <td>won</td>\n",
              "    </tr>\n",
              "    <tr>\n",
              "      <th>4</th>\n",
              "      <td>31</td>\n",
              "      <td>46</td>\n",
              "      <td>67.39</td>\n",
              "      <td>3</td>\n",
              "      <td>1</td>\n",
              "      <td>ODI vSri Lanka</td>\n",
              "      <td>lost</td>\n",
              "    </tr>\n",
              "  </tbody>\n",
              "</table>\n",
              "</div>"
            ],
            "text/plain": [
              "  Runs  BF     SR 4s 6s      Opposition Result\n",
              "0   12  22  54.54  1  0  ODI vSri Lanka   lost\n",
              "1   37  67  55.22  6  0  ODI vSri Lanka    won\n",
              "2   25  38  65.78  4  0  ODI vSri Lanka    won\n",
              "3   54  66  81.81  7  0  ODI vSri Lanka    won\n",
              "4   31  46  67.39  3  1  ODI vSri Lanka   lost"
            ]
          },
          "metadata": {
            "tags": []
          },
          "execution_count": 160
        }
      ]
    },
    {
      "cell_type": "code",
      "metadata": {
        "id": "2p2m2DNlOSAf"
      },
      "source": [
        "data['format'] =list(data['Opposition'].str.split(' v'))\n",
        "data['against'] =list(data['Opposition'].str.split(' v'))"
      ],
      "execution_count": 161,
      "outputs": []
    },
    {
      "cell_type": "code",
      "metadata": {
        "id": "5zfJpxxWOfPX"
      },
      "source": [
        "data['format'] =data['format'].str[0]\n",
        "data['against'] =data['against'].str[1]\n",
        "\n",
        "data = data.drop(['Opposition'],axis = 1)"
      ],
      "execution_count": 162,
      "outputs": []
    },
    {
      "cell_type": "code",
      "metadata": {
        "colab": {
          "base_uri": "https://localhost:8080/",
          "height": 203
        },
        "id": "H0Te2SraOsd_",
        "outputId": "b3b9f845-446c-4dc0-da62-38db24dfc220"
      },
      "source": [
        "data.head()"
      ],
      "execution_count": 163,
      "outputs": [
        {
          "output_type": "execute_result",
          "data": {
            "text/html": [
              "<div>\n",
              "<style scoped>\n",
              "    .dataframe tbody tr th:only-of-type {\n",
              "        vertical-align: middle;\n",
              "    }\n",
              "\n",
              "    .dataframe tbody tr th {\n",
              "        vertical-align: top;\n",
              "    }\n",
              "\n",
              "    .dataframe thead th {\n",
              "        text-align: right;\n",
              "    }\n",
              "</style>\n",
              "<table border=\"1\" class=\"dataframe\">\n",
              "  <thead>\n",
              "    <tr style=\"text-align: right;\">\n",
              "      <th></th>\n",
              "      <th>Runs</th>\n",
              "      <th>BF</th>\n",
              "      <th>SR</th>\n",
              "      <th>4s</th>\n",
              "      <th>6s</th>\n",
              "      <th>Result</th>\n",
              "      <th>format</th>\n",
              "      <th>against</th>\n",
              "    </tr>\n",
              "  </thead>\n",
              "  <tbody>\n",
              "    <tr>\n",
              "      <th>0</th>\n",
              "      <td>12</td>\n",
              "      <td>22</td>\n",
              "      <td>54.54</td>\n",
              "      <td>1</td>\n",
              "      <td>0</td>\n",
              "      <td>lost</td>\n",
              "      <td>ODI</td>\n",
              "      <td>Sri Lanka</td>\n",
              "    </tr>\n",
              "    <tr>\n",
              "      <th>1</th>\n",
              "      <td>37</td>\n",
              "      <td>67</td>\n",
              "      <td>55.22</td>\n",
              "      <td>6</td>\n",
              "      <td>0</td>\n",
              "      <td>won</td>\n",
              "      <td>ODI</td>\n",
              "      <td>Sri Lanka</td>\n",
              "    </tr>\n",
              "    <tr>\n",
              "      <th>2</th>\n",
              "      <td>25</td>\n",
              "      <td>38</td>\n",
              "      <td>65.78</td>\n",
              "      <td>4</td>\n",
              "      <td>0</td>\n",
              "      <td>won</td>\n",
              "      <td>ODI</td>\n",
              "      <td>Sri Lanka</td>\n",
              "    </tr>\n",
              "    <tr>\n",
              "      <th>3</th>\n",
              "      <td>54</td>\n",
              "      <td>66</td>\n",
              "      <td>81.81</td>\n",
              "      <td>7</td>\n",
              "      <td>0</td>\n",
              "      <td>won</td>\n",
              "      <td>ODI</td>\n",
              "      <td>Sri Lanka</td>\n",
              "    </tr>\n",
              "    <tr>\n",
              "      <th>4</th>\n",
              "      <td>31</td>\n",
              "      <td>46</td>\n",
              "      <td>67.39</td>\n",
              "      <td>3</td>\n",
              "      <td>1</td>\n",
              "      <td>lost</td>\n",
              "      <td>ODI</td>\n",
              "      <td>Sri Lanka</td>\n",
              "    </tr>\n",
              "  </tbody>\n",
              "</table>\n",
              "</div>"
            ],
            "text/plain": [
              "  Runs  BF     SR 4s 6s Result format    against\n",
              "0   12  22  54.54  1  0   lost    ODI  Sri Lanka\n",
              "1   37  67  55.22  6  0    won    ODI  Sri Lanka\n",
              "2   25  38  65.78  4  0    won    ODI  Sri Lanka\n",
              "3   54  66  81.81  7  0    won    ODI  Sri Lanka\n",
              "4   31  46  67.39  3  1   lost    ODI  Sri Lanka"
            ]
          },
          "metadata": {
            "tags": []
          },
          "execution_count": 163
        }
      ]
    },
    {
      "cell_type": "code",
      "metadata": {
        "id": "wc1XDGTRQBrg"
      },
      "source": [
        "df = data.copy()"
      ],
      "execution_count": 164,
      "outputs": []
    },
    {
      "cell_type": "markdown",
      "metadata": {
        "id": "ujBLMafQ7q5R"
      },
      "source": [
        "**Encoding the categorical values**"
      ]
    },
    {
      "cell_type": "code",
      "metadata": {
        "id": "8NwclAFAPKKI"
      },
      "source": [
        "df = pd.get_dummies(df,columns = ['format','against'])"
      ],
      "execution_count": 165,
      "outputs": []
    },
    {
      "cell_type": "code",
      "metadata": {
        "colab": {
          "base_uri": "https://localhost:8080/",
          "height": 454
        },
        "id": "4W8-PycvQDLj",
        "outputId": "16760f53-4a2c-4a53-df58-f5d042d07564"
      },
      "source": [
        "df"
      ],
      "execution_count": 166,
      "outputs": [
        {
          "output_type": "execute_result",
          "data": {
            "text/html": [
              "<div>\n",
              "<style scoped>\n",
              "    .dataframe tbody tr th:only-of-type {\n",
              "        vertical-align: middle;\n",
              "    }\n",
              "\n",
              "    .dataframe tbody tr th {\n",
              "        vertical-align: top;\n",
              "    }\n",
              "\n",
              "    .dataframe thead th {\n",
              "        text-align: right;\n",
              "    }\n",
              "</style>\n",
              "<table border=\"1\" class=\"dataframe\">\n",
              "  <thead>\n",
              "    <tr style=\"text-align: right;\">\n",
              "      <th></th>\n",
              "      <th>Runs</th>\n",
              "      <th>BF</th>\n",
              "      <th>SR</th>\n",
              "      <th>4s</th>\n",
              "      <th>6s</th>\n",
              "      <th>Result</th>\n",
              "      <th>format_ODI</th>\n",
              "      <th>format_T20I</th>\n",
              "      <th>format_Test</th>\n",
              "      <th>against_Afghanistan</th>\n",
              "      <th>against_Australia</th>\n",
              "      <th>against_Bangladesh</th>\n",
              "      <th>against_England</th>\n",
              "      <th>against_Ireland</th>\n",
              "      <th>against_Netherlands</th>\n",
              "      <th>against_New Zealand</th>\n",
              "      <th>against_Pakistan</th>\n",
              "      <th>against_South Africa</th>\n",
              "      <th>against_Sri Lanka</th>\n",
              "      <th>against_UAE</th>\n",
              "      <th>against_West Indies</th>\n",
              "      <th>against_Zimbabwe</th>\n",
              "    </tr>\n",
              "  </thead>\n",
              "  <tbody>\n",
              "    <tr>\n",
              "      <th>0</th>\n",
              "      <td>12</td>\n",
              "      <td>22</td>\n",
              "      <td>54.54</td>\n",
              "      <td>1</td>\n",
              "      <td>0</td>\n",
              "      <td>lost</td>\n",
              "      <td>1</td>\n",
              "      <td>0</td>\n",
              "      <td>0</td>\n",
              "      <td>0</td>\n",
              "      <td>0</td>\n",
              "      <td>0</td>\n",
              "      <td>0</td>\n",
              "      <td>0</td>\n",
              "      <td>0</td>\n",
              "      <td>0</td>\n",
              "      <td>0</td>\n",
              "      <td>0</td>\n",
              "      <td>1</td>\n",
              "      <td>0</td>\n",
              "      <td>0</td>\n",
              "      <td>0</td>\n",
              "    </tr>\n",
              "    <tr>\n",
              "      <th>1</th>\n",
              "      <td>37</td>\n",
              "      <td>67</td>\n",
              "      <td>55.22</td>\n",
              "      <td>6</td>\n",
              "      <td>0</td>\n",
              "      <td>won</td>\n",
              "      <td>1</td>\n",
              "      <td>0</td>\n",
              "      <td>0</td>\n",
              "      <td>0</td>\n",
              "      <td>0</td>\n",
              "      <td>0</td>\n",
              "      <td>0</td>\n",
              "      <td>0</td>\n",
              "      <td>0</td>\n",
              "      <td>0</td>\n",
              "      <td>0</td>\n",
              "      <td>0</td>\n",
              "      <td>1</td>\n",
              "      <td>0</td>\n",
              "      <td>0</td>\n",
              "      <td>0</td>\n",
              "    </tr>\n",
              "    <tr>\n",
              "      <th>2</th>\n",
              "      <td>25</td>\n",
              "      <td>38</td>\n",
              "      <td>65.78</td>\n",
              "      <td>4</td>\n",
              "      <td>0</td>\n",
              "      <td>won</td>\n",
              "      <td>1</td>\n",
              "      <td>0</td>\n",
              "      <td>0</td>\n",
              "      <td>0</td>\n",
              "      <td>0</td>\n",
              "      <td>0</td>\n",
              "      <td>0</td>\n",
              "      <td>0</td>\n",
              "      <td>0</td>\n",
              "      <td>0</td>\n",
              "      <td>0</td>\n",
              "      <td>0</td>\n",
              "      <td>1</td>\n",
              "      <td>0</td>\n",
              "      <td>0</td>\n",
              "      <td>0</td>\n",
              "    </tr>\n",
              "    <tr>\n",
              "      <th>3</th>\n",
              "      <td>54</td>\n",
              "      <td>66</td>\n",
              "      <td>81.81</td>\n",
              "      <td>7</td>\n",
              "      <td>0</td>\n",
              "      <td>won</td>\n",
              "      <td>1</td>\n",
              "      <td>0</td>\n",
              "      <td>0</td>\n",
              "      <td>0</td>\n",
              "      <td>0</td>\n",
              "      <td>0</td>\n",
              "      <td>0</td>\n",
              "      <td>0</td>\n",
              "      <td>0</td>\n",
              "      <td>0</td>\n",
              "      <td>0</td>\n",
              "      <td>0</td>\n",
              "      <td>1</td>\n",
              "      <td>0</td>\n",
              "      <td>0</td>\n",
              "      <td>0</td>\n",
              "    </tr>\n",
              "    <tr>\n",
              "      <th>4</th>\n",
              "      <td>31</td>\n",
              "      <td>46</td>\n",
              "      <td>67.39</td>\n",
              "      <td>3</td>\n",
              "      <td>1</td>\n",
              "      <td>lost</td>\n",
              "      <td>1</td>\n",
              "      <td>0</td>\n",
              "      <td>0</td>\n",
              "      <td>0</td>\n",
              "      <td>0</td>\n",
              "      <td>0</td>\n",
              "      <td>0</td>\n",
              "      <td>0</td>\n",
              "      <td>0</td>\n",
              "      <td>0</td>\n",
              "      <td>0</td>\n",
              "      <td>0</td>\n",
              "      <td>1</td>\n",
              "      <td>0</td>\n",
              "      <td>0</td>\n",
              "      <td>0</td>\n",
              "    </tr>\n",
              "    <tr>\n",
              "      <th>...</th>\n",
              "      <td>...</td>\n",
              "      <td>...</td>\n",
              "      <td>...</td>\n",
              "      <td>...</td>\n",
              "      <td>...</td>\n",
              "      <td>...</td>\n",
              "      <td>...</td>\n",
              "      <td>...</td>\n",
              "      <td>...</td>\n",
              "      <td>...</td>\n",
              "      <td>...</td>\n",
              "      <td>...</td>\n",
              "      <td>...</td>\n",
              "      <td>...</td>\n",
              "      <td>...</td>\n",
              "      <td>...</td>\n",
              "      <td>...</td>\n",
              "      <td>...</td>\n",
              "      <td>...</td>\n",
              "      <td>...</td>\n",
              "      <td>...</td>\n",
              "      <td>...</td>\n",
              "    </tr>\n",
              "    <tr>\n",
              "      <th>433</th>\n",
              "      <td>66</td>\n",
              "      <td>79</td>\n",
              "      <td>83.54</td>\n",
              "      <td>3</td>\n",
              "      <td>1</td>\n",
              "      <td>lost</td>\n",
              "      <td>1</td>\n",
              "      <td>0</td>\n",
              "      <td>0</td>\n",
              "      <td>0</td>\n",
              "      <td>0</td>\n",
              "      <td>0</td>\n",
              "      <td>1</td>\n",
              "      <td>0</td>\n",
              "      <td>0</td>\n",
              "      <td>0</td>\n",
              "      <td>0</td>\n",
              "      <td>0</td>\n",
              "      <td>0</td>\n",
              "      <td>0</td>\n",
              "      <td>0</td>\n",
              "      <td>0</td>\n",
              "    </tr>\n",
              "    <tr>\n",
              "      <th>434</th>\n",
              "      <td>7</td>\n",
              "      <td>10</td>\n",
              "      <td>70</td>\n",
              "      <td>1</td>\n",
              "      <td>0</td>\n",
              "      <td>won</td>\n",
              "      <td>1</td>\n",
              "      <td>0</td>\n",
              "      <td>0</td>\n",
              "      <td>0</td>\n",
              "      <td>0</td>\n",
              "      <td>0</td>\n",
              "      <td>1</td>\n",
              "      <td>0</td>\n",
              "      <td>0</td>\n",
              "      <td>0</td>\n",
              "      <td>0</td>\n",
              "      <td>0</td>\n",
              "      <td>0</td>\n",
              "      <td>0</td>\n",
              "      <td>0</td>\n",
              "      <td>0</td>\n",
              "    </tr>\n",
              "    <tr>\n",
              "      <th>435</th>\n",
              "      <td>57</td>\n",
              "      <td>161</td>\n",
              "      <td>35.4</td>\n",
              "      <td>1</td>\n",
              "      <td>0</td>\n",
              "      <td>lost</td>\n",
              "      <td>0</td>\n",
              "      <td>0</td>\n",
              "      <td>1</td>\n",
              "      <td>0</td>\n",
              "      <td>0</td>\n",
              "      <td>0</td>\n",
              "      <td>0</td>\n",
              "      <td>0</td>\n",
              "      <td>0</td>\n",
              "      <td>1</td>\n",
              "      <td>0</td>\n",
              "      <td>0</td>\n",
              "      <td>0</td>\n",
              "      <td>0</td>\n",
              "      <td>0</td>\n",
              "      <td>0</td>\n",
              "    </tr>\n",
              "    <tr>\n",
              "      <th>436</th>\n",
              "      <td>0</td>\n",
              "      <td>1</td>\n",
              "      <td>0</td>\n",
              "      <td>0</td>\n",
              "      <td>0</td>\n",
              "      <td>draw</td>\n",
              "      <td>0</td>\n",
              "      <td>0</td>\n",
              "      <td>1</td>\n",
              "      <td>0</td>\n",
              "      <td>0</td>\n",
              "      <td>0</td>\n",
              "      <td>1</td>\n",
              "      <td>0</td>\n",
              "      <td>0</td>\n",
              "      <td>0</td>\n",
              "      <td>0</td>\n",
              "      <td>0</td>\n",
              "      <td>0</td>\n",
              "      <td>0</td>\n",
              "      <td>0</td>\n",
              "      <td>0</td>\n",
              "    </tr>\n",
              "    <tr>\n",
              "      <th>437</th>\n",
              "      <td>62</td>\n",
              "      <td>134</td>\n",
              "      <td>46.26</td>\n",
              "      <td>7</td>\n",
              "      <td>0</td>\n",
              "      <td>won</td>\n",
              "      <td>0</td>\n",
              "      <td>0</td>\n",
              "      <td>1</td>\n",
              "      <td>0</td>\n",
              "      <td>0</td>\n",
              "      <td>0</td>\n",
              "      <td>1</td>\n",
              "      <td>0</td>\n",
              "      <td>0</td>\n",
              "      <td>0</td>\n",
              "      <td>0</td>\n",
              "      <td>0</td>\n",
              "      <td>0</td>\n",
              "      <td>0</td>\n",
              "      <td>0</td>\n",
              "      <td>0</td>\n",
              "    </tr>\n",
              "  </tbody>\n",
              "</table>\n",
              "<p>438 rows × 22 columns</p>\n",
              "</div>"
            ],
            "text/plain": [
              "    Runs   BF     SR  ... against_UAE against_West Indies against_Zimbabwe\n",
              "0     12   22  54.54  ...           0                   0                0\n",
              "1     37   67  55.22  ...           0                   0                0\n",
              "2     25   38  65.78  ...           0                   0                0\n",
              "3     54   66  81.81  ...           0                   0                0\n",
              "4     31   46  67.39  ...           0                   0                0\n",
              "..   ...  ...    ...  ...         ...                 ...              ...\n",
              "433   66   79  83.54  ...           0                   0                0\n",
              "434    7   10     70  ...           0                   0                0\n",
              "435   57  161   35.4  ...           0                   0                0\n",
              "436    0    1      0  ...           0                   0                0\n",
              "437   62  134  46.26  ...           0                   0                0\n",
              "\n",
              "[438 rows x 22 columns]"
            ]
          },
          "metadata": {
            "tags": []
          },
          "execution_count": 166
        }
      ]
    },
    {
      "cell_type": "code",
      "metadata": {
        "colab": {
          "base_uri": "https://localhost:8080/"
        },
        "id": "4s_VocsEQDsT",
        "outputId": "653ff860-80db-4909-8af9-abd45a6ba220"
      },
      "source": [
        "df.shape"
      ],
      "execution_count": 167,
      "outputs": [
        {
          "output_type": "execute_result",
          "data": {
            "text/plain": [
              "(438, 22)"
            ]
          },
          "metadata": {
            "tags": []
          },
          "execution_count": 167
        }
      ]
    },
    {
      "cell_type": "markdown",
      "metadata": {
        "id": "Vyr6swpR7x2y"
      },
      "source": [
        "**Removing the invalid rows**"
      ]
    },
    {
      "cell_type": "code",
      "metadata": {
        "colab": {
          "base_uri": "https://localhost:8080/"
        },
        "id": "KI_nYRdI75GZ",
        "outputId": "6ff3ef5c-ec53-4993-f62b-3a7ee974e6a2"
      },
      "source": [
        "df['SR'].unique()"
      ],
      "execution_count": 168,
      "outputs": [
        {
          "output_type": "execute_result",
          "data": {
            "text/plain": [
              "array(['54.54', '55.22', '65.78', '81.81', '67.39', '100', '66.66', '-',\n",
              "       '75.96', '73.17', '62.5', '142.1', '83.07', '93.85', '75', '89.21',\n",
              "       '104.41', '107.36', '25', '80.28', '89.13', '62.06', '71.57',\n",
              "       '123.8', '50', '71.42', '82.35', '0', '64.91', '97.52', '100.96',\n",
              "       '87.67', '90', '147.36', '77.14', '64.7', '68.29', '94.56',\n",
              "       '33.33', '120.48', '160', '64.15', '60', '77.63', '72.72', '42.85',\n",
              "       '116.66', '78.64', '90.38', '29.68', '24.77', '56.6', '80',\n",
              "       '75.34', '38.88', '44.44', '115.05', '58.73', '114.28', '86.86',\n",
              "       '93.75', '51.11', '95.12', '209.09', '94.11', '49.23', '54.83',\n",
              "       '50.18', '104.76', '129.16', '91.17', '81.91', '64.28', '48',\n",
              "       '79.51', '77.77', '154.65', '80.48', '123.64', '93.8', '20',\n",
              "       '58.46', '107.56', '65.71', '141.66', '54.2', '56', '170.73',\n",
              "       '128.2', '125', '115.38', '127.86', '37.5', '38.23', '30.95',\n",
              "       '34.91', '123.52', '190', '122.72', '41.17', '68.18', '68.51',\n",
              "       '97.46', '78.78', '51.94', '36.95', '53.15', '61.76', '75.6',\n",
              "       '122.22', '81.48', '90.62', '126.47', '52.38', '40', '122.89',\n",
              "       '59.61', '106.48', '77.27', '131.81', '71.76', '192.3', '93.15',\n",
              "       '174.24', '73.07', '102.38', '99', '105.55', '88.57', '57.48',\n",
              "       '110.81', '120', '30', '105.12', '61.73', '62.71', '111.47',\n",
              "       '45.45', '112.5', '131.7', '114', '104.54', '163.63', '132.75',\n",
              "       '24.32', '51.14', '53.84', '36.11', '61.9', '160.97', '79.48',\n",
              "       '111.4', '111.36', '86.88', '103.12', '110.31', '71.3', '52.63',\n",
              "       '60.1', '59.38', '56.25', '42.1', '84.92', '76.66', '91.66',\n",
              "       '79.16', '7.69', '63.63', '85.18', '52.73', '69.84', '31.7',\n",
              "       '159.25', '61.11', '98.57', '44.7', '58.14', '93.81', '88.05',\n",
              "       '115.21', '178.78', '138.88', '58.33', '96.07', '119.14', '146.42',\n",
              "       '148.64', '160.78', '189.36', '70.67', '48.88', '28', '177.77',\n",
              "       '54', '58.06', '57.86', '104.93', '69.23', '114.92', '88.23',\n",
              "       '85.52', '46.11', '65.95', '49.27', '69.11', '51.72', '116.19',\n",
              "       '87.3', '111.53', '140', '84.61', '26.08', '119.11', '75.24',\n",
              "       '123.07', '55.55', '68.08', '96.52', '177.27', '73.61', '44.82',\n",
              "       '117.14', '200', '27.27', '136.45', '94.82', '151.85', '85.98',\n",
              "       '70.9', '157.14', '96.8', '106.6', '236.36', '154.76', '216.66',\n",
              "       '79.77', '62.26', '51.35', '92', '100.62', '90.36', '134.37',\n",
              "       '130', '90.9', '123.68', '148.27', '91.46', '80.35', '98.61',\n",
              "       '62.89', '46.51', '57.3', '51.74', '69.01', '60.43', '57.69',\n",
              "       '130.84', '121.7', '89.91', '113.79', '148.78', '30.83', '47.13',\n",
              "       '39.42', '38.98', '92.85', '74.19', '76.27', '95.55', '81.08',\n",
              "       '141.17', '189.47', '97.77', '96.66', '129.47', '52.94', '106.49',\n",
              "       '118.46', '106.34', '87.8', '86.84', '96.29', '82.92', '16.66',\n",
              "       '65.51', '121.73', '131.11', '96', '115.15', '46.34', '138.46',\n",
              "       '78.46', '75.59', '70.1', '188', '111.76', '241.37', '176.47',\n",
              "       '152.94', '102.63', '97.8', '140.62', '140.74', '80.95', '42',\n",
              "       '37.77', '102.29', '80.76', '166.66', '139.34', '41.48', '54.6',\n",
              "       '40.25', '46.55', '148.97', '167.39', '153.84', '93.33', '83.54',\n",
              "       '70', '35.4', '46.26'], dtype=object)"
            ]
          },
          "metadata": {
            "tags": []
          },
          "execution_count": 168
        }
      ]
    },
    {
      "cell_type": "code",
      "metadata": {
        "id": "-5I3qeTdQLLc"
      },
      "source": [
        "df = df[df['SR']!='-']"
      ],
      "execution_count": 169,
      "outputs": []
    },
    {
      "cell_type": "code",
      "metadata": {
        "colab": {
          "base_uri": "https://localhost:8080/"
        },
        "id": "R93iWEoHQL_E",
        "outputId": "66d9897c-a9a6-4a1d-e1b5-1b7d6e6c3849"
      },
      "source": [
        "df.shape"
      ],
      "execution_count": 170,
      "outputs": [
        {
          "output_type": "execute_result",
          "data": {
            "text/plain": [
              "(420, 22)"
            ]
          },
          "metadata": {
            "tags": []
          },
          "execution_count": 170
        }
      ]
    },
    {
      "cell_type": "markdown",
      "metadata": {
        "id": "Y_Cj6qmX8Dla"
      },
      "source": [
        "**Encoding the target variable**"
      ]
    },
    {
      "cell_type": "code",
      "metadata": {
        "colab": {
          "base_uri": "https://localhost:8080/"
        },
        "id": "_hiv2HWOQm1T",
        "outputId": "6db9d3c5-1d55-4123-8f0f-7f1d03aed2f7"
      },
      "source": [
        "df['Result'].value_counts()"
      ],
      "execution_count": 171,
      "outputs": [
        {
          "output_type": "execute_result",
          "data": {
            "text/plain": [
              "won     251\n",
              "lost    142\n",
              "draw     17\n",
              "tied      7\n",
              "n/r       3\n",
              "Name: Result, dtype: int64"
            ]
          },
          "metadata": {
            "tags": []
          },
          "execution_count": 171
        }
      ]
    },
    {
      "cell_type": "code",
      "metadata": {
        "id": "Jj-J5mBLQuaC"
      },
      "source": [
        "df = df[df['Result'] != 'tied']\n",
        "df = df[df['Result'] != 'n/r']\n",
        "df = df[df['Result'] != 'draw']"
      ],
      "execution_count": 172,
      "outputs": []
    },
    {
      "cell_type": "code",
      "metadata": {
        "colab": {
          "base_uri": "https://localhost:8080/"
        },
        "id": "KQs7zYq1Q2ia",
        "outputId": "7edac0f3-0ed2-432e-c006-8902cbbb5817"
      },
      "source": [
        "df.shape"
      ],
      "execution_count": 173,
      "outputs": [
        {
          "output_type": "execute_result",
          "data": {
            "text/plain": [
              "(393, 22)"
            ]
          },
          "metadata": {
            "tags": []
          },
          "execution_count": 173
        }
      ]
    },
    {
      "cell_type": "code",
      "metadata": {
        "id": "kPhcPsd0QP48"
      },
      "source": [
        "df.loc[df['Result'] == 'lost', 'Result'] = 0\n",
        "df.loc[df['Result'] == 'won', 'Result'] = 1"
      ],
      "execution_count": 174,
      "outputs": []
    },
    {
      "cell_type": "code",
      "metadata": {
        "colab": {
          "base_uri": "https://localhost:8080/"
        },
        "id": "C8JMPRjaQt6R",
        "outputId": "95c6138a-969c-402d-a6f7-fc0ec10556fc"
      },
      "source": [
        "df['Result'].value_counts()"
      ],
      "execution_count": 175,
      "outputs": [
        {
          "output_type": "execute_result",
          "data": {
            "text/plain": [
              "1    251\n",
              "0    142\n",
              "Name: Result, dtype: int64"
            ]
          },
          "metadata": {
            "tags": []
          },
          "execution_count": 175
        }
      ]
    },
    {
      "cell_type": "code",
      "metadata": {
        "id": "lGap_m7IQ_X_"
      },
      "source": [
        "dff = df.pop('Result')\n",
        "df['Result'] = dff"
      ],
      "execution_count": 176,
      "outputs": []
    },
    {
      "cell_type": "code",
      "metadata": {
        "colab": {
          "base_uri": "https://localhost:8080/",
          "height": 240
        },
        "id": "HQ7hpEP-RJq_",
        "outputId": "9a1f479e-7e75-46b2-e658-c2381b4c2f03"
      },
      "source": [
        "df.head()"
      ],
      "execution_count": 177,
      "outputs": [
        {
          "output_type": "execute_result",
          "data": {
            "text/html": [
              "<div>\n",
              "<style scoped>\n",
              "    .dataframe tbody tr th:only-of-type {\n",
              "        vertical-align: middle;\n",
              "    }\n",
              "\n",
              "    .dataframe tbody tr th {\n",
              "        vertical-align: top;\n",
              "    }\n",
              "\n",
              "    .dataframe thead th {\n",
              "        text-align: right;\n",
              "    }\n",
              "</style>\n",
              "<table border=\"1\" class=\"dataframe\">\n",
              "  <thead>\n",
              "    <tr style=\"text-align: right;\">\n",
              "      <th></th>\n",
              "      <th>Runs</th>\n",
              "      <th>BF</th>\n",
              "      <th>SR</th>\n",
              "      <th>4s</th>\n",
              "      <th>6s</th>\n",
              "      <th>format_ODI</th>\n",
              "      <th>format_T20I</th>\n",
              "      <th>format_Test</th>\n",
              "      <th>against_Afghanistan</th>\n",
              "      <th>against_Australia</th>\n",
              "      <th>against_Bangladesh</th>\n",
              "      <th>against_England</th>\n",
              "      <th>against_Ireland</th>\n",
              "      <th>against_Netherlands</th>\n",
              "      <th>against_New Zealand</th>\n",
              "      <th>against_Pakistan</th>\n",
              "      <th>against_South Africa</th>\n",
              "      <th>against_Sri Lanka</th>\n",
              "      <th>against_UAE</th>\n",
              "      <th>against_West Indies</th>\n",
              "      <th>against_Zimbabwe</th>\n",
              "      <th>Result</th>\n",
              "    </tr>\n",
              "  </thead>\n",
              "  <tbody>\n",
              "    <tr>\n",
              "      <th>0</th>\n",
              "      <td>12</td>\n",
              "      <td>22</td>\n",
              "      <td>54.54</td>\n",
              "      <td>1</td>\n",
              "      <td>0</td>\n",
              "      <td>1</td>\n",
              "      <td>0</td>\n",
              "      <td>0</td>\n",
              "      <td>0</td>\n",
              "      <td>0</td>\n",
              "      <td>0</td>\n",
              "      <td>0</td>\n",
              "      <td>0</td>\n",
              "      <td>0</td>\n",
              "      <td>0</td>\n",
              "      <td>0</td>\n",
              "      <td>0</td>\n",
              "      <td>1</td>\n",
              "      <td>0</td>\n",
              "      <td>0</td>\n",
              "      <td>0</td>\n",
              "      <td>0</td>\n",
              "    </tr>\n",
              "    <tr>\n",
              "      <th>1</th>\n",
              "      <td>37</td>\n",
              "      <td>67</td>\n",
              "      <td>55.22</td>\n",
              "      <td>6</td>\n",
              "      <td>0</td>\n",
              "      <td>1</td>\n",
              "      <td>0</td>\n",
              "      <td>0</td>\n",
              "      <td>0</td>\n",
              "      <td>0</td>\n",
              "      <td>0</td>\n",
              "      <td>0</td>\n",
              "      <td>0</td>\n",
              "      <td>0</td>\n",
              "      <td>0</td>\n",
              "      <td>0</td>\n",
              "      <td>0</td>\n",
              "      <td>1</td>\n",
              "      <td>0</td>\n",
              "      <td>0</td>\n",
              "      <td>0</td>\n",
              "      <td>1</td>\n",
              "    </tr>\n",
              "    <tr>\n",
              "      <th>2</th>\n",
              "      <td>25</td>\n",
              "      <td>38</td>\n",
              "      <td>65.78</td>\n",
              "      <td>4</td>\n",
              "      <td>0</td>\n",
              "      <td>1</td>\n",
              "      <td>0</td>\n",
              "      <td>0</td>\n",
              "      <td>0</td>\n",
              "      <td>0</td>\n",
              "      <td>0</td>\n",
              "      <td>0</td>\n",
              "      <td>0</td>\n",
              "      <td>0</td>\n",
              "      <td>0</td>\n",
              "      <td>0</td>\n",
              "      <td>0</td>\n",
              "      <td>1</td>\n",
              "      <td>0</td>\n",
              "      <td>0</td>\n",
              "      <td>0</td>\n",
              "      <td>1</td>\n",
              "    </tr>\n",
              "    <tr>\n",
              "      <th>3</th>\n",
              "      <td>54</td>\n",
              "      <td>66</td>\n",
              "      <td>81.81</td>\n",
              "      <td>7</td>\n",
              "      <td>0</td>\n",
              "      <td>1</td>\n",
              "      <td>0</td>\n",
              "      <td>0</td>\n",
              "      <td>0</td>\n",
              "      <td>0</td>\n",
              "      <td>0</td>\n",
              "      <td>0</td>\n",
              "      <td>0</td>\n",
              "      <td>0</td>\n",
              "      <td>0</td>\n",
              "      <td>0</td>\n",
              "      <td>0</td>\n",
              "      <td>1</td>\n",
              "      <td>0</td>\n",
              "      <td>0</td>\n",
              "      <td>0</td>\n",
              "      <td>1</td>\n",
              "    </tr>\n",
              "    <tr>\n",
              "      <th>4</th>\n",
              "      <td>31</td>\n",
              "      <td>46</td>\n",
              "      <td>67.39</td>\n",
              "      <td>3</td>\n",
              "      <td>1</td>\n",
              "      <td>1</td>\n",
              "      <td>0</td>\n",
              "      <td>0</td>\n",
              "      <td>0</td>\n",
              "      <td>0</td>\n",
              "      <td>0</td>\n",
              "      <td>0</td>\n",
              "      <td>0</td>\n",
              "      <td>0</td>\n",
              "      <td>0</td>\n",
              "      <td>0</td>\n",
              "      <td>0</td>\n",
              "      <td>1</td>\n",
              "      <td>0</td>\n",
              "      <td>0</td>\n",
              "      <td>0</td>\n",
              "      <td>0</td>\n",
              "    </tr>\n",
              "  </tbody>\n",
              "</table>\n",
              "</div>"
            ],
            "text/plain": [
              "  Runs  BF     SR 4s  ... against_UAE  against_West Indies  against_Zimbabwe  Result\n",
              "0   12  22  54.54  1  ...           0                    0                 0       0\n",
              "1   37  67  55.22  6  ...           0                    0                 0       1\n",
              "2   25  38  65.78  4  ...           0                    0                 0       1\n",
              "3   54  66  81.81  7  ...           0                    0                 0       1\n",
              "4   31  46  67.39  3  ...           0                    0                 0       0\n",
              "\n",
              "[5 rows x 22 columns]"
            ]
          },
          "metadata": {
            "tags": []
          },
          "execution_count": 177
        }
      ]
    },
    {
      "cell_type": "code",
      "metadata": {
        "colab": {
          "base_uri": "https://localhost:8080/"
        },
        "id": "IaAOeSEtRKaA",
        "outputId": "5c8b67e3-4965-4a8f-beb1-ca1d372552b6"
      },
      "source": [
        "df.shape"
      ],
      "execution_count": 178,
      "outputs": [
        {
          "output_type": "execute_result",
          "data": {
            "text/plain": [
              "(393, 22)"
            ]
          },
          "metadata": {
            "tags": []
          },
          "execution_count": 178
        }
      ]
    },
    {
      "cell_type": "markdown",
      "metadata": {
        "id": "Ictz5WOF8LLB"
      },
      "source": [
        "**Scaling Data and splitting into train and test**"
      ]
    },
    {
      "cell_type": "code",
      "metadata": {
        "id": "1HJFogF8gxtn"
      },
      "source": [
        "X = df.iloc[:,:21]\n",
        "y = df['Result']"
      ],
      "execution_count": 179,
      "outputs": []
    },
    {
      "cell_type": "code",
      "metadata": {
        "id": "6V8H2YvkhlP0"
      },
      "source": [
        "y=y.astype('int')"
      ],
      "execution_count": 180,
      "outputs": []
    },
    {
      "cell_type": "code",
      "metadata": {
        "id": "7fXhSVpphBOt"
      },
      "source": [
        "from sklearn.model_selection import train_test_split\n",
        "X_train, X_test, y_train, y_test= train_test_split(X, y, test_size=0.2, random_state=42)\n"
      ],
      "execution_count": 181,
      "outputs": []
    },
    {
      "cell_type": "code",
      "metadata": {
        "id": "qffgF_tuRQ1w"
      },
      "source": [
        "from sklearn.preprocessing import StandardScaler\n",
        "scaler = StandardScaler( )\n",
        "scaler.fit(X_train)\n",
        "X_train = scaler.transform(X_train)"
      ],
      "execution_count": 182,
      "outputs": []
    },
    {
      "cell_type": "markdown",
      "metadata": {
        "id": "4Qum_Q178R_W"
      },
      "source": [
        "**Creating our Win or Lose Classifier**"
      ]
    },
    {
      "cell_type": "code",
      "metadata": {
        "id": "zD2bXJTahGf1"
      },
      "source": [
        "from sklearn.linear_model import LogisticRegression\n",
        "clf = LogisticRegression()\n"
      ],
      "execution_count": 183,
      "outputs": []
    },
    {
      "cell_type": "markdown",
      "metadata": {
        "id": "soalp1DD8cp-"
      },
      "source": [
        "**Fitting the Classifier to the Data**"
      ]
    },
    {
      "cell_type": "code",
      "metadata": {
        "colab": {
          "base_uri": "https://localhost:8080/"
        },
        "id": "zS8BMPXohLM7",
        "outputId": "f1e21520-028d-4aee-e69a-69f2ea6e189f"
      },
      "source": [
        "# training the model\n",
        "clf.fit(X_train, y_train)"
      ],
      "execution_count": 184,
      "outputs": [
        {
          "output_type": "execute_result",
          "data": {
            "text/plain": [
              "LogisticRegression(C=1.0, class_weight=None, dual=False, fit_intercept=True,\n",
              "                   intercept_scaling=1, l1_ratio=None, max_iter=100,\n",
              "                   multi_class='auto', n_jobs=None, penalty='l2',\n",
              "                   random_state=None, solver='lbfgs', tol=0.0001, verbose=0,\n",
              "                   warm_start=False)"
            ]
          },
          "metadata": {
            "tags": []
          },
          "execution_count": 184
        }
      ]
    },
    {
      "cell_type": "markdown",
      "metadata": {
        "id": "MxoJGL5Y8jLp"
      },
      "source": [
        "**Predicting Results**"
      ]
    },
    {
      "cell_type": "code",
      "metadata": {
        "id": "3Rd0JbgQhLqc"
      },
      "source": [
        "y_pred = clf.predict(scaler.transform(X_test))\n"
      ],
      "execution_count": 185,
      "outputs": []
    },
    {
      "cell_type": "markdown",
      "metadata": {
        "id": "1VA_z3ZZ8ody"
      },
      "source": [
        "Checking Goodness/ Correctness of Model"
      ]
    },
    {
      "cell_type": "code",
      "metadata": {
        "colab": {
          "base_uri": "https://localhost:8080/"
        },
        "id": "OLAXQpy9hUlL",
        "outputId": "40dab4ab-5b1c-4ace-a26b-438e9f3b555f"
      },
      "source": [
        "from sklearn.metrics import accuracy_score\n",
        "accuracy = accuracy_score(y_test, y_pred)\n",
        "print(\"Accuracy: {:.2f}%\".format(accuracy * 100))"
      ],
      "execution_count": 186,
      "outputs": [
        {
          "output_type": "stream",
          "text": [
            "Accuracy: 67.09%\n"
          ],
          "name": "stdout"
        }
      ]
    },
    {
      "cell_type": "code",
      "metadata": {
        "colab": {
          "base_uri": "https://localhost:8080/"
        },
        "id": "ITxM1sgsh1aM",
        "outputId": "02573832-82ac-4466-cd11-d22c28648fa4"
      },
      "source": [
        "y_test.value_counts()"
      ],
      "execution_count": 187,
      "outputs": [
        {
          "output_type": "execute_result",
          "data": {
            "text/plain": [
              "1    47\n",
              "0    32\n",
              "Name: Result, dtype: int64"
            ]
          },
          "metadata": {
            "tags": []
          },
          "execution_count": 187
        }
      ]
    },
    {
      "cell_type": "code",
      "metadata": {
        "colab": {
          "base_uri": "https://localhost:8080/"
        },
        "id": "tafCZnrIiAPB",
        "outputId": "5865828c-9ded-4788-8fee-dfa21b47f881"
      },
      "source": [
        "47/79 * 100"
      ],
      "execution_count": 188,
      "outputs": [
        {
          "output_type": "execute_result",
          "data": {
            "text/plain": [
              "59.49367088607595"
            ]
          },
          "metadata": {
            "tags": []
          },
          "execution_count": 188
        }
      ]
    },
    {
      "cell_type": "code",
      "metadata": {
        "colab": {
          "base_uri": "https://localhost:8080/",
          "height": 312
        },
        "id": "gMp03DeqiCtZ",
        "outputId": "447c3819-5151-40a6-dfac-25939b06803b"
      },
      "source": [
        "from sklearn.metrics import confusion_matrix\n",
        "import matplotlib.pyplot as plt\n",
        "import seaborn as sns\n",
        "cf = confusion_matrix(y_test, y_pred)\n",
        "plt.figure()\n",
        "sns.heatmap(cf, annot=True)\n",
        "plt.xlabel('Prediction')\n",
        "plt.ylabel('Target')\n",
        "plt.title('Confusion Matrix')"
      ],
      "execution_count": 189,
      "outputs": [
        {
          "output_type": "execute_result",
          "data": {
            "text/plain": [
              "Text(0.5, 1.0, 'Confusion Matrix')"
            ]
          },
          "metadata": {
            "tags": []
          },
          "execution_count": 189
        },
        {
          "output_type": "display_data",
          "data": {
            "image/png": "[encoded data removed]",
            "text/plain": [
              "<Figure size 432x288 with 2 Axes>"
            ]
          },
          "metadata": {
            "tags": [],
            "needs_background": "light"
          }
        }
      ]
    },
    {
      "cell_type": "code",
      "metadata": {
        "id": "uTGiHUPui8P0"
      },
      "source": [
        "from sklearn.metrics import f1_score "
      ],
      "execution_count": 131,
      "outputs": []
    },
    {
      "cell_type": "code",
      "metadata": {
        "colab": {
          "base_uri": "https://localhost:8080/"
        },
        "id": "Ql8UrAdqjlu0",
        "outputId": "1dd0e5e6-bed6-4a54-d729-40eb6083fb22"
      },
      "source": [
        "f1_score(y_test,y_pred)"
      ],
      "execution_count": 132,
      "outputs": [
        {
          "output_type": "execute_result",
          "data": {
            "text/plain": [
              "0.7592592592592592"
            ]
          },
          "metadata": {
            "tags": []
          },
          "execution_count": 132
        }
      ]
    },
    {
      "cell_type": "code",
      "metadata": {
        "id": "jWps4aFwjrOC"
      },
      "source": [
        ""
      ],
      "execution_count": null,
      "outputs": []
    },
    {
      "cell_type": "code",
      "metadata": {
        "id": "rC8lomwe72ep"
      },
      "source": [
        ""
      ],
      "execution_count": null,
      "outputs": []
    }
  ]
}